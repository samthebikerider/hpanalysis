{
 "cells": [
  {
   "cell_type": "code",
   "execution_count": 1,
   "metadata": {},
   "outputs": [
    {
     "name": "stderr",
     "output_type": "stream",
     "text": [
      "WARNING: Retrying (Retry(total=4, connect=None, read=None, redirect=None, status=None)) after connection broken by 'ProxyError('Cannot connect to proxy.', NewConnectionError('<pip._vendor.urllib3.connection.HTTPSConnection object at 0x00000233148D7280>: Failed to establish a new connection: [Errno 11001] getaddrinfo failed'))': /simple/eeweather/\n",
      "WARNING: Retrying (Retry(total=3, connect=None, read=None, redirect=None, status=None)) after connection broken by 'ProxyError('Cannot connect to proxy.', NewConnectionError('<pip._vendor.urllib3.connection.HTTPSConnection object at 0x00000233148D7460>: Failed to establish a new connection: [Errno 11001] getaddrinfo failed'))': /simple/eeweather/\n",
      "WARNING: Retrying (Retry(total=2, connect=None, read=None, redirect=None, status=None)) after connection broken by 'ProxyError('Cannot connect to proxy.', NewConnectionError('<pip._vendor.urllib3.connection.HTTPSConnection object at 0x00000233148D7520>: Failed to establish a new connection: [Errno 11001] getaddrinfo failed'))': /simple/eeweather/\n",
      "WARNING: Retrying (Retry(total=1, connect=None, read=None, redirect=None, status=None)) after connection broken by 'ProxyError('Cannot connect to proxy.', NewConnectionError('<pip._vendor.urllib3.connection.HTTPSConnection object at 0x00000233148D77C0>: Failed to establish a new connection: [Errno 11001] getaddrinfo failed'))': /simple/eeweather/\n",
      "WARNING: Retrying (Retry(total=0, connect=None, read=None, redirect=None, status=None)) after connection broken by 'ProxyError('Cannot connect to proxy.', NewConnectionError('<pip._vendor.urllib3.connection.HTTPSConnection object at 0x00000233148D7970>: Failed to establish a new connection: [Errno 11001] getaddrinfo failed'))': /simple/eeweather/\n",
      "ERROR: Could not find a version that satisfies the requirement eeweather (from versions: none)\n",
      "ERROR: No matching distribution found for eeweather\n",
      "WARNING: There was an error checking the latest version of pip.\n"
     ]
    }
   ],
   "source": [
    "!pip install eeweather"
   ]
  },
  {
   "cell_type": "code",
   "execution_count": null,
   "metadata": {},
   "outputs": [],
   "source": [
    "conda install pip"
   ]
  },
  {
   "cell_type": "code",
   "execution_count": null,
   "metadata": {},
   "outputs": [],
   "source": [
    "import pandas as pd\n",
    "import numpy as np\n",
    "import eeweather as ew"
   ]
  },
  {
   "cell_type": "code",
   "execution_count": null,
   "metadata": {},
   "outputs": [],
   "source": [
    "# User input\n",
    "# 5-number zip code\n",
    "# replace Y, M, D in date vars\n",
    "# filepath format is: /path/to/file/filename.csv\n",
    "zip = \"\"\n",
    "start_date = dt.datetime(2017, 8, 21, tzinfo=pytz.UTC)\n",
    "stop_date = dt.datetime(2019, 8, 21, tzinfo=pytz.UTC)\n",
    "filepath = \"\""
   ]
  },
  {
   "cell_type": "code",
   "execution_count": null,
   "metadata": {},
   "outputs": [],
   "source": [
    "def get_hourly_weather(zip, start_date, stop_date):\n",
    "    \"\"\"\n",
    "    function to get hourly weather data from eeweather\n",
    "    requires: zipcode, baseline start/stop dates, post period start/stop dates\n",
    "    returns: ranked weather stations, warnings, baseline and post weather data\n",
    "    \"\"\"\n",
    "    lat, lon = ew.zcta_to_lat_long(zip)\n",
    "\n",
    "    ranked_stations = ew.rank_stations(lat, lon,\n",
    "                                   is_tmy3=True,\n",
    "                                   match_ba_climate_zone = True,\n",
    "                                   minimum_quality = \"medium\")\n",
    "    \n",
    "    station, warnings = ew.select_station(ranked_stations)\n",
    "    \n",
    "    period_isd_temp_C = station.load_isd_hourly_temp_data(start_date, stop_date)[0].reset_index()\n",
    "\n",
    "    return ranked_stations, period_isd_temp_C, warnings"
   ]
  },
  {
   "cell_type": "code",
   "execution_count": null,
   "metadata": {},
   "outputs": [],
   "source": [
    "data = get_hourly_weather(zip, start_date, stop_date)"
   ]
  },
  {
   "cell_type": "code",
   "execution_count": null,
   "metadata": {},
   "outputs": [],
   "source": [
    "data.to_csv(filepath)"
   ]
  }
 ],
 "metadata": {
  "kernelspec": {
   "display_name": "Python 3 (ipykernel)",
   "language": "python",
   "name": "python3"
  },
  "language_info": {
   "codemirror_mode": {
    "name": "ipython",
    "version": 3
   },
   "file_extension": ".py",
   "mimetype": "text/x-python",
   "name": "python",
   "nbconvert_exporter": "python",
   "pygments_lexer": "ipython3",
   "version": "3.9.13"
  },
  "vscode": {
   "interpreter": {
    "hash": "7ecf6d9ae5b74a759cf23d83b5cb88374ddd2165f022e796bde98c06d393a37b"
   }
  }
 },
 "nbformat": 4,
 "nbformat_minor": 2
}
