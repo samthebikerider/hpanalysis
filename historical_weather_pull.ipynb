{
 "cells": [
  {
   "cell_type": "code",
   "execution_count": 5,
   "metadata": {},
   "outputs": [],
   "source": [
    "import eeweather as ew\n",
    "import datetime as dt\n",
    "import pytz"
   ]
  },
  {
   "cell_type": "code",
   "execution_count": 6,
   "metadata": {},
   "outputs": [],
   "source": [
    "# User input\n",
    "# 5-number zip code\n",
    "# replace Y, M, D in date vars\n",
    "# filepath format is: /path/to/file/filename.csv\n",
    "zip = \"06483\"\n",
    "start_date = dt.datetime(2023, 2, 9, tzinfo=pytz.UTC)\n",
    "stop_date = dt.datetime(2023, 2, 28, tzinfo=pytz.UTC)\n",
    "filepath = \"/Users/rose775/Library/CloudStorage/OneDrive-PNNL/Desktop/Projects/ccHP/Project Management/Data Analysis/5539NO_hist_weather_data.csv\""
   ]
  },
  {
   "cell_type": "code",
   "execution_count": 7,
   "metadata": {},
   "outputs": [],
   "source": [
    "def get_hourly_weather(zip, start_date, stop_date):\n",
    "    \"\"\"\n",
    "    function to get hourly weather data from eeweather\n",
    "    requires: zipcode, baseline start/stop dates, post period start/stop dates\n",
    "    returns: ranked weather stations, warnings, baseline and post weather data\n",
    "    \"\"\"\n",
    "    lat, lon = ew.zcta_to_lat_long(zip)\n",
    "\n",
    "    ranked_stations = ew.rank_stations(lat, lon,\n",
    "                                   is_tmy3=True,\n",
    "                                   match_ba_climate_zone = True,\n",
    "                                   minimum_quality = \"medium\")\n",
    "    \n",
    "    station, warnings = ew.select_station(ranked_stations)\n",
    "    \n",
    "    period_isd_temp_C = station.load_isd_hourly_temp_data(start_date, stop_date)[0].reset_index()\n",
    "\n",
    "    return ranked_stations, period_isd_temp_C, warnings"
   ]
  },
  {
   "cell_type": "code",
   "execution_count": 13,
   "metadata": {},
   "outputs": [],
   "source": [
    "data = get_hourly_weather(zip, start_date, stop_date)[1]\n",
    "ranked_stations = get_hourly_weather(zip, start_date, stop_date)[0]\n",
    "warnings = get_hourly_weather(zip, start_date, stop_date)[2]"
   ]
  },
  {
   "cell_type": "code",
   "execution_count": 14,
   "metadata": {},
   "outputs": [
    {
     "data": {
      "text/html": [
       "<div>\n",
       "<style scoped>\n",
       "    .dataframe tbody tr th:only-of-type {\n",
       "        vertical-align: middle;\n",
       "    }\n",
       "\n",
       "    .dataframe tbody tr th {\n",
       "        vertical-align: top;\n",
       "    }\n",
       "\n",
       "    .dataframe thead th {\n",
       "        text-align: right;\n",
       "    }\n",
       "</style>\n",
       "<table border=\"1\" class=\"dataframe\">\n",
       "  <thead>\n",
       "    <tr style=\"text-align: right;\">\n",
       "      <th></th>\n",
       "      <th>index</th>\n",
       "      <th>0</th>\n",
       "    </tr>\n",
       "  </thead>\n",
       "  <tbody>\n",
       "    <tr>\n",
       "      <th>0</th>\n",
       "      <td>2023-02-09 00:00:00+00:00</td>\n",
       "      <td>5.0000</td>\n",
       "    </tr>\n",
       "    <tr>\n",
       "      <th>1</th>\n",
       "      <td>2023-02-09 01:00:00+00:00</td>\n",
       "      <td>4.9890</td>\n",
       "    </tr>\n",
       "    <tr>\n",
       "      <th>2</th>\n",
       "      <td>2023-02-09 02:00:00+00:00</td>\n",
       "      <td>4.3052</td>\n",
       "    </tr>\n",
       "    <tr>\n",
       "      <th>3</th>\n",
       "      <td>2023-02-09 03:00:00+00:00</td>\n",
       "      <td>3.8780</td>\n",
       "    </tr>\n",
       "    <tr>\n",
       "      <th>4</th>\n",
       "      <td>2023-02-09 04:00:00+00:00</td>\n",
       "      <td>2.4993</td>\n",
       "    </tr>\n",
       "  </tbody>\n",
       "</table>\n",
       "</div>"
      ],
      "text/plain": [
       "                      index       0\n",
       "0 2023-02-09 00:00:00+00:00  5.0000\n",
       "1 2023-02-09 01:00:00+00:00  4.9890\n",
       "2 2023-02-09 02:00:00+00:00  4.3052\n",
       "3 2023-02-09 03:00:00+00:00  3.8780\n",
       "4 2023-02-09 04:00:00+00:00  2.4993"
      ]
     },
     "execution_count": 14,
     "metadata": {},
     "output_type": "execute_result"
    }
   ],
   "source": [
    "data.head()"
   ]
  },
  {
   "cell_type": "code",
   "execution_count": 15,
   "metadata": {},
   "outputs": [],
   "source": [
    "data.to_csv(filepath)"
   ]
  }
 ],
 "metadata": {
  "kernelspec": {
   "display_name": "base",
   "language": "python",
   "name": "python3"
  },
  "language_info": {
   "codemirror_mode": {
    "name": "ipython",
    "version": 3
   },
   "file_extension": ".py",
   "mimetype": "text/x-python",
   "name": "python",
   "nbconvert_exporter": "python",
   "pygments_lexer": "ipython3",
   "version": "3.9.12"
  },
  "orig_nbformat": 4,
  "vscode": {
   "interpreter": {
    "hash": "7ecf6d9ae5b74a759cf23d83b5cb88374ddd2165f022e796bde98c06d393a37b"
   }
  }
 },
 "nbformat": 4,
 "nbformat_minor": 2
}
