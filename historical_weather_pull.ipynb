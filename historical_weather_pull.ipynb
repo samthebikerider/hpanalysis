{
 "cells": [
  {
   "cell_type": "code",
   "execution_count": null,
   "metadata": {},
   "outputs": [],
   "source": [
    "import pandas as pd\n",
    "import numpy as np\n",
    "import eeweather as ew"
   ]
  },
  {
   "cell_type": "code",
   "execution_count": null,
   "metadata": {},
   "outputs": [],
   "source": [
    "# User input\n",
    "# 5-number zip code\n",
    "# replace Y, M, D in date vars\n",
    "# filepath format is: /path/to/file/filename.csv\n",
    "zip = \"\"\n",
    "start_date = dt.datetime(2017, 8, 21, tzinfo=pytz.UTC)\n",
    "stop_date = dt.datetime(2019, 8, 21, tzinfo=pytz.UTC)\n",
    "filepath = \"\""
   ]
  },
  {
   "cell_type": "code",
   "execution_count": null,
   "metadata": {},
   "outputs": [],
   "source": [
    "def get_hourly_weather(zip, start_date, stop_date):\n",
    "    \"\"\"\n",
    "    function to get hourly weather data from eeweather\n",
    "    requires: zipcode, baseline start/stop dates, post period start/stop dates\n",
    "    returns: ranked weather stations, warnings, baseline and post weather data\n",
    "    \"\"\"\n",
    "    lat, lon = ew.zcta_to_lat_long(zip)\n",
    "\n",
    "    ranked_stations = ew.rank_stations(lat, lon,\n",
    "                                   is_tmy3=True,\n",
    "                                   match_ba_climate_zone = True,\n",
    "                                   minimum_quality = \"medium\")\n",
    "    \n",
    "    station, warnings = ew.select_station(ranked_stations)\n",
    "    \n",
    "    period_isd_temp_C = station.load_isd_hourly_temp_data(start_date, stop_date)[0].reset_index()\n",
    "\n",
    "    return ranked_stations, period_isd_temp_C, warnings"
   ]
  },
  {
   "cell_type": "code",
   "execution_count": null,
   "metadata": {},
   "outputs": [],
   "source": [
    "data = get_hourly_weather(zip, start_date, stop_date)"
   ]
  },
  {
   "cell_type": "code",
   "execution_count": null,
   "metadata": {},
   "outputs": [],
   "source": [
    "data.to_csv(filepath)"
   ]
  }
 ],
 "metadata": {
  "language_info": {
   "name": "python"
  },
  "orig_nbformat": 4
 },
 "nbformat": 4,
 "nbformat_minor": 2
}
