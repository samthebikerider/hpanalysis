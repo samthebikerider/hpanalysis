{
 "cells": [
  {
   "cell_type": "code",
   "execution_count": 1,
   "metadata": {},
   "outputs": [],
   "source": [
    "import eeweather as ew\n",
    "import datetime as dt\n",
    "import pytz"
   ]
  },
  {
   "cell_type": "code",
   "execution_count": 2,
   "metadata": {},
   "outputs": [],
   "source": [
    "def get_hourly_weather(zip, site, start_date, stop_date, filepath):\n",
    "    \"\"\"\n",
    "    function to get hourly weather data from eeweather\n",
    "    requires: zipcode, baseline start/stop dates, post period start/stop dates\n",
    "    returns: ranked weather stations, warnings, baseline and post weather data\n",
    "    \"\"\"\n",
    "    lat, lon = ew.zcta_to_lat_long(zip)\n",
    "\n",
    "    ranked_stations = ew.rank_stations(lat, lon,\n",
    "                                   is_tmy3=True,\n",
    "                                   match_ba_climate_zone = True,\n",
    "                                   minimum_quality = \"medium\")\n",
    "    \n",
    "    station, warnings = ew.select_station(ranked_stations)\n",
    "    \n",
    "    data = station.load_isd_hourly_temp_data(start_date, stop_date)[0].reset_index()\n",
    "    data = data.rename(columns = {data.columns[0]:\"timestamp\", data.columns[1]:\"outdoor_air_temp_degC\"})\n",
    "\n",
    "    data.to_csv(f\"{filepath}site{site}_zip{zip}_isdstation{station}_{start_date.strftime('%m%d%Y')}-{stop_date.strftime('%m%d%Y')}\"+\".csv\",\n",
    "                index=False)\n",
    "    ranked_stations.head(10).to_csv(f\"{filepath}/metadata/metadata_zip{zip}_isdstation{station}\"+\".csv\",\n",
    "                index=False)"
   ]
  },
  {
   "cell_type": "code",
   "execution_count": 3,
   "metadata": {},
   "outputs": [],
   "source": [
    "get_hourly_weather(\"06401\",\n",
    "                   \"5539NO\",\n",
    "                   start_date = dt.datetime(2023, 2, 1, tzinfo=pytz.UTC),\n",
    "                   stop_date = dt.datetime(2023, 4, 20, tzinfo=pytz.UTC),\n",
    "                   filepath = \"/Users/rose775/Library/CloudStorage/OneDrive-PNNL/Desktop/Projects/ccHP/Project Management/Data Analysis/ee_weather_data/\")\n"
   ]
  }
 ],
 "metadata": {
  "kernelspec": {
   "display_name": "base",
   "language": "python",
   "name": "python3"
  },
  "language_info": {
   "codemirror_mode": {
    "name": "ipython",
    "version": 3
   },
   "file_extension": ".py",
   "mimetype": "text/x-python",
   "name": "python",
   "nbconvert_exporter": "python",
   "pygments_lexer": "ipython3",
   "version": "3.9.12"
  },
  "orig_nbformat": 4,
  "vscode": {
   "interpreter": {
    "hash": "7ecf6d9ae5b74a759cf23d83b5cb88374ddd2165f022e796bde98c06d393a37b"
   }
  }
 },
 "nbformat": 4,
 "nbformat_minor": 2
}
