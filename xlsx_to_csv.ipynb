{
 "cells": [
  {
   "cell_type": "code",
   "execution_count": 5,
   "metadata": {},
   "outputs": [],
   "source": [
    "import glob\n",
    "import pandas as pd\n"
   ]
  },
  {
   "cell_type": "code",
   "execution_count": 18,
   "metadata": {},
   "outputs": [],
   "source": [
    "def xlsx_2_csv(file):\n",
    "    f.to_csv(file.replace(\".xlsx\", \".csv\"), index = False)\n",
    "    print(\"Converted {} to .csv\".format(file))\n",
    "\n",
    "def folder_xlsx_2_csv(folder):\n",
    "    xlsx_files = glob.glob(folder + \"/*.xlsx\")\n",
    "    csv_files = glob.glob(folder + \"/*.csv\")\n",
    "    i = 1\n",
    "    files = []\n",
    "\n",
    "    for xf in xlsx_files:\n",
    "        if xf not in csv_files:\n",
    "            files.append(xf)\n",
    "\n",
    "    for file in files:\n",
    "        n = len(files)\n",
    "        xlsx_2_csv(file)\n",
    "        print(\"File {} of {}\".format(i , n))\n",
    "        i += 1\n"
   ]
  },
  {
   "cell_type": "code",
   "execution_count": 17,
   "metadata": {},
   "outputs": [],
   "source": [
    "folder_xlsx_2_csv(\"/Volumes/cchpc/raw2/e350\")"
   ]
  }
 ],
 "metadata": {
  "kernelspec": {
   "display_name": "base",
   "language": "python",
   "name": "python3"
  },
  "language_info": {
   "codemirror_mode": {
    "name": "ipython",
    "version": 3
   },
   "file_extension": ".py",
   "mimetype": "text/x-python",
   "name": "python",
   "nbconvert_exporter": "python",
   "pygments_lexer": "ipython3",
   "version": "3.9.12"
  },
  "orig_nbformat": 4
 },
 "nbformat": 4,
 "nbformat_minor": 2
}
